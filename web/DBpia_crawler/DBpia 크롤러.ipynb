{
 "cells": [
  {
   "cell_type": "code",
   "execution_count": 736,
   "id": "0746bc4d",
   "metadata": {},
   "outputs": [],
   "source": [
    "from selenium import webdriver\n",
    "from bs4 import BeautifulSoup\n",
    "import time\n",
    "import pandas as pd"
   ]
  },
  {
   "cell_type": "code",
   "execution_count": 737,
   "id": "a280531e",
   "metadata": {},
   "outputs": [],
   "source": [
    "driver = webdriver.Chrome('chromedriver')\n",
    "url = 'https://www.dbpia.co.kr/'\n",
    "driver.get(url)"
   ]
  },
  {
   "cell_type": "code",
   "execution_count": 738,
   "id": "07083740",
   "metadata": {},
   "outputs": [],
   "source": [
    "sel_a = driver.find_element_by_xpath('//*[@id=\"keyword\"]')\n",
    "sel_b = driver.find_element_by_xpath('//*[@id=\"bnHead\"]/div[4]/div[6]/div[1]/div[1]/a')"
   ]
  },
  {
   "cell_type": "code",
   "execution_count": 739,
   "id": "d185f58e",
   "metadata": {},
   "outputs": [],
   "source": [
    "#크롤링할 페이지 수\n",
    "crawling_page_number = 3\n",
    "#키워드 입력부분\n",
    "sel_a.send_keys('인공지능')\n",
    "sel_b.click()"
   ]
  },
  {
   "cell_type": "code",
   "execution_count": 740,
   "id": "e4bcc2dc",
   "metadata": {},
   "outputs": [],
   "source": [
    "titles_list = []\n",
    "author_list = []\n",
    "publisher_list = []\n",
    "date_list = []\n",
    "use_number_list = []\n",
    "abstracts_list = []"
   ]
  },
  {
   "cell_type": "code",
   "execution_count": 741,
   "id": "15b9163b",
   "metadata": {},
   "outputs": [],
   "source": [
    "links=driver.find_elements_by_css_selector('div > div.titWrap > h5 > a')"
   ]
  },
  {
   "cell_type": "code",
   "execution_count": 742,
   "id": "d1897210",
   "metadata": {},
   "outputs": [
    {
     "name": "stdout",
     "output_type": "stream",
     "text": [
      "1\n"
     ]
    },
    {
     "name": "stderr",
     "output_type": "stream",
     "text": [
      "<ipython-input-742-109c55cb1970>:39: DeprecationWarning: use driver.switch_to.window instead\n",
      "  driver.switch_to_window(driver.window_handles[index+1])\n",
      "<ipython-input-742-109c55cb1970>:53: DeprecationWarning: use driver.switch_to.window instead\n",
      "  driver.switch_to_window(driver.window_handles[0])\n"
     ]
    },
    {
     "name": "stdout",
     "output_type": "stream",
     "text": [
      "2\n",
      "3\n",
      "4\n"
     ]
    }
   ],
   "source": [
    "#정학도순\n",
    "\n",
    "print(1)\n",
    "for page in range(crawling_page_number):\n",
    "    links_list = []\n",
    "    \n",
    "    #제목\n",
    "    titles=driver.find_elements_by_css_selector('div > div.titWrap > h5 > a')\n",
    "    for title in titles:\n",
    "        titles_list.append(title.text)\n",
    "        \n",
    "    #저자\n",
    "    authors = driver.find_elements_by_class_name(\"author\")\n",
    "    for author in authors:\n",
    "        author_list.append(author.text)\n",
    "    \n",
    "    #publisher\n",
    "    publishers = driver.find_elements_by_class_name(\"publisher\")\n",
    "    for publisher in publishers:\n",
    "        publisher_list.append(publisher.text)\n",
    "        \n",
    "    #날짜\n",
    "    dates = driver.find_elements_by_class_name(\"date\")\n",
    "    for date in dates:\n",
    "        date_list.append(date.text)\n",
    "        \n",
    "    #이용자 수 \n",
    "    user_numbers = driver.find_elements_by_class_name(\"stats>small\")\n",
    "    for user_number in user_numbers:\n",
    "        use_number_list.append(user_number.text)\n",
    "        \n",
    "\n",
    "    #요약\n",
    "    \n",
    "    links=driver.find_elements_by_css_selector('div > div.titWrap > h5 > a')\n",
    "    for index, url in enumerate(links):\n",
    "        url.click()\n",
    "        time.sleep(3)\n",
    "        driver.switch_to_window(driver.window_handles[index+1])\n",
    "        try:\n",
    "            abstract = driver.find_elements_by_class_name(\"article\")\n",
    "            if len(abstract) == 2:\n",
    "                time.sleep(3)\n",
    "                abstracts_list.append(abstract[1].text)\n",
    "                \n",
    "            else:\n",
    "                abstracts_list.append(\"없음\")\n",
    "        except:\n",
    "            x = driver.find_element_by_xpath('//*[@id=\"#pub_modalOrganPop\"]')\n",
    "            x.click()\n",
    "            \n",
    "\n",
    "        driver.switch_to_window(driver.window_handles[0])\n",
    "\n",
    "    \n",
    "    #다음 페이지로 이동\n",
    "    NextPage = driver.find_element_by_xpath(f'//*[@id=\"pcPaging{str(page+2)}\"]')\n",
    "    print(page+2)\n",
    "    NextPage.click()\n",
    "    time.sleep(2)    "
   ]
  },
  {
   "cell_type": "code",
   "execution_count": 743,
   "id": "9e6e5296",
   "metadata": {},
   "outputs": [
    {
     "name": "stdout",
     "output_type": "stream",
     "text": [
      "60\n",
      "60\n",
      "60\n",
      "60\n",
      "60\n",
      "60\n"
     ]
    }
   ],
   "source": [
    "print(len(titles_list))\n",
    "print(len(author_list))\n",
    "print(len(publisher_list))\n",
    "print(len(date_list))\n",
    "print(len(use_number_list))\n",
    "print(len(abstracts_list))"
   ]
  },
  {
   "cell_type": "code",
   "execution_count": null,
   "id": "b075aef0",
   "metadata": {},
   "outputs": [],
   "source": []
  },
  {
   "cell_type": "code",
   "execution_count": 744,
   "id": "33ea13ff",
   "metadata": {},
   "outputs": [],
   "source": [
    "dic_dat = {\"제목\":titles_list, \"저자\": publisher_list, \"날짜\": date_list, \"이용자 수\":use_number_list,\"abstract\":abstracts_list}"
   ]
  },
  {
   "cell_type": "code",
   "execution_count": 745,
   "id": "5b868bd1",
   "metadata": {},
   "outputs": [],
   "source": [
    "dat = pd.DataFrame(dic_dat)\n",
    "dat.to_csv(\"논문 정보4.csv\", index = False)\n",
    "dat.to_excel(\"논문 정보4.xlsx\", index = False)"
   ]
  },
  {
   "cell_type": "code",
   "execution_count": null,
   "id": "9ae18663",
   "metadata": {},
   "outputs": [],
   "source": []
  }
 ],
 "metadata": {
  "kernelspec": {
   "display_name": "Python 3",
   "language": "python",
   "name": "python3"
  },
  "language_info": {
   "codemirror_mode": {
    "name": "ipython",
    "version": 3
   },
   "file_extension": ".py",
   "mimetype": "text/x-python",
   "name": "python",
   "nbconvert_exporter": "python",
   "pygments_lexer": "ipython3",
   "version": "3.8.8"
  }
 },
 "nbformat": 4,
 "nbformat_minor": 5
}
